{
 "cells": [
  {
   "cell_type": "code",
   "execution_count": 1,
   "metadata": {},
   "outputs": [],
   "source": [
    "import numpy as np\n",
    "import pandas as pd\n",
    "import wave\n",
    "import os"
   ]
  },
  {
   "cell_type": "code",
   "execution_count": 2,
   "metadata": {},
   "outputs": [],
   "source": [
    "key=[]\n",
    "duration=[]\n",
    "text=[]"
   ]
  },
  {
   "cell_type": "code",
   "execution_count": 3,
   "metadata": {},
   "outputs": [
    {
     "name": "stdout",
     "output_type": "stream",
     "text": [
      "0 میری عمر 30 سال ہے\n",
      "\n",
      "1 میں نے ایف اے کیا ہے\n",
      "\n",
      "2 میں ایک فیشن کا کام کرتی ہو\n",
      "\n",
      "3 مساج سال سے یہ کام کر رہی ہو\n",
      "\n",
      "4 میرا نام لائبہ ہے\n",
      "\n",
      "5 میں کراچی سے ہوں\n",
      "\n",
      "6 میں 20 سال کی ہوں\n",
      "\n",
      "7 بیٹری تک پڑا ہے\n",
      "\n",
      "8 تین سال تک کا کام کیا ہے\n",
      "\n",
      "9 میں عائشہ ہوں\n",
      "\n",
      "10 میں ویٹر کا کام کرتی ہو\n",
      "\n",
      "11 میں اسلام آباد میں رہتی ہوں\n",
      "\n",
      "12 میری عمر 35 سال ہے\n",
      "\n",
      "13 میرا پیشہ ڈرائیور ہے\n",
      "\n",
      "14 میں نے بی اے کیا ہے\n",
      "\n",
      "15 میرا تجربہ پانچ سال کا ہے\n",
      "\n",
      "16 میرا نام سارا ہے\n",
      "\n",
      "17 میرا فون نمبر زیرو تھری زیرو ایک زیرو 341 ہے\n",
      "\n",
      "18 میرا تعلق لاہور سے ہے\n",
      "\n",
      "19 میری عمر 22 سال ہے\n",
      "\n",
      "20 میرا پیشہ ڈرائیور ہے\n",
      "\n",
      "21 میں نے آئی سی ایس کیا ہے\n",
      "\n",
      "22 میں تین سال سے یہ کام کر رہی ہو\n",
      "\n",
      "23 میرا نام بلال ہے\n",
      "\n",
      "24 میرا فون نمبر ہے 03442391725 اردو\n",
      "\n",
      "25 میں نے 2004 میں ایس کیا ہے\n",
      "\n",
      "26 میں کشمیر میں رہتی ہوں\n",
      "\n",
      "27 میری عمر 21 سال ہے\n",
      "\n",
      "28 میں کارپینٹر کا کام جانتی ہوں\n",
      "\n",
      "29 میں نے آٹھویں تک تعلیم حاصل کی ہے\n",
      "\n",
      "30 میرا اس کام کا کوئی تجربہ نہیں ہے\n",
      "\n",
      "31 میرا نام رابعہ ہے\n",
      "\n",
      "32 میں نے 2011 میں آٹھویں جماعت مکمل کی ہے\n",
      "\n",
      "33 میں پنڈی سے ہوں\n",
      "\n"
     ]
    }
   ],
   "source": [
    "file = open('transcribe.txt', encoding=\"utf8\")\n",
    "data_= file.readlines()\n",
    "for count,i in enumerate(data_):\n",
    "    print(count,i)\n",
    "    location=str(count+1)+'.wav'\n",
    "    audio = wave.open(location)\n",
    "    key.append(location)\n",
    "    text.append(i)    # Audio Transcription append into array named \"text\"\n",
    "    frames = audio.getnframes()\n",
    "    rate = audio.getframerate()\n",
    "    dur = frames / float(rate)\n",
    "    audio.close()\n",
    "    duration.append(dur)\n",
    "\n",
    "file.close()"
   ]
  },
  {
   "cell_type": "code",
   "execution_count": 13,
   "metadata": {},
   "outputs": [],
   "source": [
    "di = {'key':key,'duration':duration,'text':text}\n",
    "df = pd.DataFrame(di)\n",
    "\n",
    "df.to_csv(\"Alina_dataset.csv\",index=False)"
   ]
  },
  {
   "cell_type": "code",
   "execution_count": 6,
   "metadata": {},
   "outputs": [],
   "source": [
    "train, validate, test = np.split(df.sample(frac=1), [int(.6*len(df)), int(.8*len(df))])\n",
    "\n",
    "train.to_csv(\"train.csv\",index=False)\n",
    "validate.to_csv(\"validate.csv\",index=False)\n",
    "test.to_csv(\"test.csv\",index=False)"
   ]
  },
  {
   "cell_type": "code",
   "execution_count": 15,
   "metadata": {},
   "outputs": [],
   "source": [
    "test = pd.read_csv('test.csv')\n",
    "train = pd.read_csv('train.csv')\n",
    "merge=pd.concat([train,test], ignore_index=True)\n",
    "merge.to_csv('train_test.csv', index=False)"
   ]
  },
  {
   "cell_type": "code",
   "execution_count": 11,
   "metadata": {},
   "outputs": [],
   "source": [
    "import librosa, librosa.display\n",
    "\n",
    "file = open('transcribe.txt', encoding=\"utf8\")\n",
    "data_= file.readlines()\n",
    "for count,i in enumerate(data_):\n",
    "    location=str(count+1)+'.wav'\n",
    "    signal, sr = librosa.load(location , sr= 22050)\n",
    "    MFCC = librosa.feature.mfcc(signal, n_fft =2048, hop_length = 512, n_mfcc =13)\n",
    "    #librosa.display.spacehow( MFCC, sr = 22050, hop_length = 512 )\n",
    "    "
   ]
  }
 ],
 "metadata": {
  "kernelspec": {
   "display_name": "Python 3",
   "language": "python",
   "name": "python3"
  },
  "language_info": {
   "codemirror_mode": {
    "name": "ipython",
    "version": 3
   },
   "file_extension": ".py",
   "mimetype": "text/x-python",
   "name": "python",
   "nbconvert_exporter": "python",
   "pygments_lexer": "ipython3",
   "version": "3.8.3"
  }
 },
 "nbformat": 4,
 "nbformat_minor": 4
}
