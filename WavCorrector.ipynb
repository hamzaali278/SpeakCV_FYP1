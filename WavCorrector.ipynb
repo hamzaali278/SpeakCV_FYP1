{
  "nbformat": 4,
  "nbformat_minor": 0,
  "metadata": {
    "colab": {
      "name": "WavCorrector.ipynb",
      "provenance": [],
      "collapsed_sections": []
    },
    "kernelspec": {
      "name": "python3",
      "display_name": "Python 3"
    }
  },
  "cells": [
    {
      "cell_type": "code",
      "metadata": {
        "colab": {
          "base_uri": "https://localhost:8080/"
        },
        "id": "cNouGWkqR6li",
        "outputId": "d569b9cd-7d2d-48e4-fee2-da9ad52f8ece"
      },
      "source": [
        "!pip install soundfile"
      ],
      "execution_count": 1,
      "outputs": [
        {
          "output_type": "stream",
          "text": [
            "Collecting soundfile\n",
            "  Downloading https://files.pythonhosted.org/packages/eb/f2/3cbbbf3b96fb9fa91582c438b574cff3f45b29c772f94c400e2c99ef5db9/SoundFile-0.10.3.post1-py2.py3-none-any.whl\n",
            "Requirement already satisfied: cffi>=1.0 in /usr/local/lib/python3.6/dist-packages (from soundfile) (1.14.4)\n",
            "Requirement already satisfied: pycparser in /usr/local/lib/python3.6/dist-packages (from cffi>=1.0->soundfile) (2.20)\n",
            "Installing collected packages: soundfile\n",
            "Successfully installed soundfile-0.10.3.post1\n"
          ],
          "name": "stdout"
        }
      ]
    },
    {
      "cell_type": "code",
      "metadata": {
        "id": "HpnSH-xtSAUz"
      },
      "source": [
        "import librosa\r\n",
        "import soundfile as sf"
      ],
      "execution_count": 2,
      "outputs": []
    },
    {
      "cell_type": "code",
      "metadata": {
        "id": "ZDK_HR2dSCt2"
      },
      "source": [
        "\r\n",
        "file = open('/content/drive/MyDrive/SpeakCV/SpecificData/Transcript.txt')\r\n",
        "data_=file.readlines()\r\n",
        "for count,i in enumerate(data_):\r\n",
        "    location='/content/drive/MyDrive/SpeakCV/SpecificData/'+str(count+1)+'.wav' #Original Files\r\n",
        "\r\n",
        "    x,_ = librosa.load(location, sr=16000)\r\n",
        "    sf.write('/content/drive/MyDrive/CorrectFiles/'+str(count+1)+'.wav', x, 16000) #Corrected files\r\n",
        "\r\n",
        "    if (count%500==0):#to see progress\r\n",
        "      print(count)\r\n",
        "    else:\r\n",
        "      print(count, end =\", \")\r\n",
        "file.close()\r\n",
        "    "
      ],
      "execution_count": null,
      "outputs": []
    }
  ]
}